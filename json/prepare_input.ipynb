{
 "cells": [
  {
   "cell_type": "code",
   "execution_count": 11,
   "id": "c1066988-ba68-448b-9eeb-89008b994813",
   "metadata": {},
   "outputs": [],
   "source": [
    "import pandas as pd\n",
    "from glob import glob\n",
    "import os\n",
    "import json\n",
    "import importlib\n",
    "import multiprocessing as mp"
   ]
  },
  {
   "cell_type": "markdown",
   "id": "98680f16-8c3d-44e3-a38e-1118cd43ea91",
   "metadata": {},
   "source": [
    "Read the reactions"
   ]
  },
  {
   "cell_type": "code",
   "execution_count": 12,
   "id": "8176e724-341e-4902-bfa2-45461a781946",
   "metadata": {},
   "outputs": [],
   "source": [
    "rxn_df = pd.read_csv(\"../reactions/reactions.csv\")\n",
    "rxn_df.rxn_id = rxn_df.rxn_id.str.strip()"
   ]
  },
  {
   "cell_type": "markdown",
   "id": "0b83fea8-a553-47ad-93b4-16e3ce7406b7",
   "metadata": {},
   "source": [
    "Prepare TS"
   ]
  },
  {
   "cell_type": "code",
   "execution_count": 13,
   "id": "ca71eb7c-d137-4e2f-af48-08ff42660aef",
   "metadata": {},
   "outputs": [],
   "source": [
    "json_filename = \"template_TS.json\"\n",
    "with open(json_filename, 'r') as ifs:\n",
    "    input_dict = json.load(ifs)\n",
    "    \n",
    "for rxn_id, smarts in rxn_df.values:\n",
    "    num_components = len(smarts.split(\".\"))\n",
    "    reagent_file_list = []\n",
    "    iterations = 10000\n",
    "    if num_components > 2:\n",
    "        iterations = 18500\n",
    "    for i in range(0,num_components):\n",
    "        reagent_file_list.append(f'../reactions/{num_components}_component/{rxn_id}_reagent_{i}.smi')\n",
    "    input_dict['reagent_file_list'] = reagent_file_list\n",
    "    input_dict['evaluator_arg']['ref_colname'] = \"query_001\"\n",
    "    input_dict['evaluator_arg']['ref_filename'] = f\"../parquet/{num_components}_component/{rxn_id}.parquet\"\n",
    "    input_dict[\"num_ts_iterations\"] = iterations\n",
    "    input_dict['reaction_smarts'] = smarts\n",
    "    with open(f\"{num_components}_component/{rxn_id}_TS.json\",\"w\") as ofs:\n",
    "        json.dump(input_dict, ofs, indent=4)"
   ]
  },
  {
   "cell_type": "markdown",
   "id": "c6ca648f-02a4-4576-8889-b351511cdcde",
   "metadata": {},
   "source": [
    "Prepare RWS"
   ]
  },
  {
   "cell_type": "code",
   "execution_count": 14,
   "id": "416350cd-bb6b-499e-a13d-9a15e60f747e",
   "metadata": {},
   "outputs": [],
   "source": [
    "def read_input(json_filename: str, ref_colname) -> dict:\n",
    "    \"\"\"\n",
    "    Read input parameters from a json file\n",
    "    :param json_filename: input json file\n",
    "    :return: a dictionary with the input parameters\n",
    "    \"\"\"\n",
    "    input_data = None\n",
    "    with open(json_filename, 'r') as ifs:\n",
    "        input_data = json.load(ifs)\n",
    "    default = {\n",
    "        \"nprocesses\": 1,\n",
    "        \"num_warmup_trials\": 3,\n",
    "        \"percent_of_library\": 0.001,\n",
    "        \"min_cpds_per_core\": 50,\n",
    "        \"scaling\": 1,\n",
    "        \"stop\": 6000,\n",
    "        \"hide_progress\": True,\n",
    "        \"log_filename\": \"./logs.txt\",\n",
    "        \"results_filename\": \"./results.csv\"\n",
    "    }\n",
    "    for para in default:\n",
    "        if para not in input_data:\n",
    "           input_data[para] = default[para]\n",
    "    return input_data"
   ]
  },
  {
   "cell_type": "code",
   "execution_count": 15,
   "id": "77c02cd5-9785-41cc-bbad-8399b5336352",
   "metadata": {},
   "outputs": [
    {
     "data": {
      "text/plain": [
       "{'reagent_file_list': ['../REAGENTS/rxn102a_reagent_0.smi',\n",
       "  '../REAGENTS/rxn102a_reagent_1.smi'],\n",
       " 'reaction_smarts': '[#6;a;$(c1:[c,n]:[c,n]:[c,n]:[c,n]:[c,n]:1):1][#35;A;D1].[#7;A;$(N[#6])!$(N=*)!$([N-])!$(N#*)!$([ND3])!$([ND4])!$(N[O,N])!$(N[C,S]=[S,O,N]):2]>>[#6:1]-[#7:2]',\n",
       " 'nprocesses': 1,\n",
       " 'min_cpds_per_core': 50,\n",
       " 'num_warmup_trials': 5,\n",
       " 'percent_of_library': 0.02,\n",
       " 'scaling': 1,\n",
       " 'stop': 6000,\n",
       " 'evaluator_class_name': 'LookupEvaluator',\n",
       " 'evaluator_arg': {'ref_filename': '../PARQUET/rxn102a.parquet',\n",
       "  'ref_colname': 'query_001'},\n",
       " 'log_filename': 'rws_amide_rocs_logs.txt',\n",
       " 'results_filename': 'rws_amide_rocs_logs.csv',\n",
       " 'hide_progress': True}"
      ]
     },
     "execution_count": 15,
     "metadata": {},
     "output_type": "execute_result"
    }
   ],
   "source": [
    "read_input(\"template_RWS.json\",\"query_001\")"
   ]
  },
  {
   "cell_type": "code",
   "execution_count": 16,
   "id": "fcf777c5-d8e6-4d34-867b-e9fab78e186b",
   "metadata": {},
   "outputs": [],
   "source": [
    "input_dict = None\n",
    "input_dict = read_input(\"template_RWS.json\",\"query_001\")\n",
    "for rxn_id, smarts in rxn_df.values:\n",
    "    num_components = len(smarts.split(\".\"))\n",
    "    input_dict['reaction_smarts'] = smarts\n",
    "    num_components = len(smarts.split(\".\"))\n",
    "    reagent_file_list = []\n",
    "    for i in range(0,num_components):\n",
    "        reagent_file_list.append(f'../reactions/{num_components}_component/{rxn_id}_reagent_{i}.smi')\n",
    "    input_dict['reagent_file_list'] = reagent_file_list\n",
    "    input_dict['evaluator_arg']['ref_colname'] = \"query_001\"\n",
    "    input_dict['evaluator_arg']['ref_filename'] = f\"../parquet/{num_components}_component/{rxn_id}.parquet\"\n",
    "    with open(f\"{num_components}_component/{rxn_id}_RWS.json\",\"w\") as ofs:\n",
    "        json.dump(input_dict, ofs, indent=4)"
   ]
  },
  {
   "cell_type": "code",
   "execution_count": null,
   "id": "47d75aa2-b4ca-4517-9f50-19c8a06a7ea5",
   "metadata": {},
   "outputs": [],
   "source": []
  },
  {
   "cell_type": "code",
   "execution_count": null,
   "id": "049bd40e-6c91-4f62-b8d2-fdb960012f88",
   "metadata": {},
   "outputs": [],
   "source": []
  }
 ],
 "metadata": {
  "kernelspec": {
   "display_name": "Python 3 (ipykernel)",
   "language": "python",
   "name": "python3"
  },
  "language_info": {
   "codemirror_mode": {
    "name": "ipython",
    "version": 3
   },
   "file_extension": ".py",
   "mimetype": "text/x-python",
   "name": "python",
   "nbconvert_exporter": "python",
   "pygments_lexer": "ipython3",
   "version": "3.11.11"
  }
 },
 "nbformat": 4,
 "nbformat_minor": 5
}
